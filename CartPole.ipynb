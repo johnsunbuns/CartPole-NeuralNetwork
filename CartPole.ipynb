{
 "cells": [
  {
   "cell_type": "markdown",
   "metadata": {},
   "source": [
    "# Imports"
   ]
  },
  {
   "cell_type": "code",
   "execution_count": 1,
   "metadata": {},
   "outputs": [],
   "source": [
    "import gym\n",
    "import math\n",
    "import random\n",
    "import numpy as np\n",
    "import matplotlib\n",
    "import matplotlib.pyplot as plt\n",
    "from collections import namedtuple\n",
    "from itertools import count\n",
    "from PIL import Image\n",
    "import torch\n",
    "import torch.nn as nn\n",
    "import torch.optim as optim\n",
    "import torch.nn.functional as F\n",
    "import torchvision.transforms as T "
   ]
  },
  {
   "cell_type": "code",
   "execution_count": 2,
   "metadata": {},
   "outputs": [],
   "source": [
    "%matplotlib inline\n",
    "is_ipython = 'inline' in matplotlib.get_backend()\n",
    "if is_ipython: \n",
    "    from IPython import display"
   ]
  },
  {
   "cell_type": "markdown",
   "metadata": {},
   "source": [
    "# Network"
   ]
  },
  {
   "cell_type": "code",
   "execution_count": 3,
   "metadata": {},
   "outputs": [],
   "source": [
    "class DQN(nn.Module):\n",
    "    def __init__(self, input_size):\n",
    "        super().__init__()\n",
    "        self.fc1 = nn.Linear(in_features=input_size, out_features=64)   \n",
    "        self.fc2 = nn.Linear(in_features=64, out_features=64)\n",
    "        self.out = nn.Linear(in_features=64, out_features=2)\n",
    "            \n",
    "    def forward(self, t):\n",
    "        t = F.relu(self.fc1(t))\n",
    "        t = F.relu(self.fc2(t))\n",
    "        t = self.out(t)\n",
    "        return t"
   ]
  },
  {
   "cell_type": "markdown",
   "metadata": {},
   "source": [
    "# Experience and Memory"
   ]
  },
  {
   "cell_type": "code",
   "execution_count": 4,
   "metadata": {},
   "outputs": [],
   "source": [
    "Experience = namedtuple('Experience', ('state', 'action', 'next_state', 'reward'))\n",
    "\n",
    "class ReplayMemory():\n",
    "    def __init__(self, capacity):\n",
    "        self.capacity = capacity\n",
    "        self.memory = []\n",
    "        self.push_count = 0\n",
    "        \n",
    "    def push(self, experience):\n",
    "        if len(self.memory) < self.capacity:\n",
    "            self.memory.append(experience)\n",
    "        else:\n",
    "            self.memory[self.push_count % self.capacity] = experience\n",
    "        self.push_count += 1\n",
    "        \n",
    "    def sample(self, batch_size):\n",
    "        return random.sample(self.memory, batch_size)\n",
    "    \n",
    "    def can_provide_sample(self, batch_size):  # returns a boolean\n",
    "        return len(self.memory) >= batch_size"
   ]
  },
  {
   "cell_type": "markdown",
   "metadata": {},
   "source": [
    "# Agent & Strategy"
   ]
  },
  {
   "cell_type": "code",
   "execution_count": 5,
   "metadata": {},
   "outputs": [],
   "source": [
    "class Agent():\n",
    "    def __init__(self, strategy, num_actions):\n",
    "        self.current_step = 0\n",
    "        self.strategy = strategy\n",
    "        self.num_actions = num_actions\n",
    "        \n",
    "    def select_action(self, state, policy_net):\n",
    "        rate = self.strategy.get_exploration_rate(self.current_step)\n",
    "        self.current_step += 1\n",
    "\n",
    "        if rate > random.random():\n",
    "            return torch.Tensor([random.randrange(self.num_actions)]) # explore      \n",
    "        else:\n",
    "            with torch.no_grad():\n",
    "                return policy_net(state).argmax().unsqueeze(0).to(torch.float32) # exploit   \n",
    "                       \n",
    "class EpsilonGreedyStrategy():\n",
    "    def __init__(self, start, end, decay):\n",
    "        self.start = start\n",
    "        self.end = end\n",
    "        self.decay = decay\n",
    "    \n",
    "    def get_exploration_rate(self, current_step):  # Exponential Decay\n",
    "        return self.end + (self.start - self.end) * math.exp(-1. * current_step * self.decay)"
   ]
  },
  {
   "cell_type": "markdown",
   "metadata": {},
   "source": [
    "# Helper Functions"
   ]
  },
  {
   "cell_type": "code",
   "execution_count": 6,
   "metadata": {},
   "outputs": [],
   "source": [
    "def extract_tensors(experiences):\n",
    "    batch = Experience(*zip(*experiences))\n",
    "    t1 = torch.cat(batch.state, 0)\n",
    "    t2 = torch.cat(batch.action, 0)\n",
    "    t3 = torch.cat(batch.reward, 0)\n",
    "    t4 = torch.cat(batch.next_state, 0)\n",
    "    return (t1,t2,t3,t4)\n",
    "\n",
    "def get_moving_average(period, values):\n",
    "    values = torch.tensor(values, dtype=torch.float)\n",
    "    if len(values) >= period:\n",
    "        moving_avg = values.unfold(dimension=0, size=period, step=1).mean(dim=1).flatten(start_dim=0)\n",
    "        moving_avg = torch.cat((torch.zeros(period-1), moving_avg))\n",
    "        return moving_avg.numpy()\n",
    "    else:\n",
    "        moving_avg = torch.zeros(len(values))\n",
    "        return moving_avg.numpy()\n",
    "    \n",
    "def plot(moving_avg_period, values, title):\n",
    "    moving_avg = get_moving_average(moving_avg_period, values)\n",
    "    plt.figure(2)     \n",
    "    plt.clf()  \n",
    "    \n",
    "    plt.title(title)\n",
    "    plt.xlabel('Episode')\n",
    "    plt.ylabel('Duration')\n",
    "    plt.plot(range(1,1+len(values)), values, label='Per Episode Return') \n",
    "    plt.plot(range(1,1+len(moving_avg)), moving_avg, label='Moving Average') \n",
    "    plt.legend(loc=4)\n",
    "    \n",
    "    plt.pause(0.001)\n",
    "    print(f'Episode: {len(values)} \\n{moving_avg_period} Episode Moving Avg: {moving_avg[-1]}')\n",
    "    if is_ipython: \n",
    "        display.clear_output(wait=True)"
   ]
  },
  {
   "cell_type": "markdown",
   "metadata": {},
   "source": [
    "# Hyper Paramaters"
   ]
  },
  {
   "cell_type": "code",
   "execution_count": 7,
   "metadata": {},
   "outputs": [],
   "source": [
    "batch_size = 64\n",
    "gamma = 0.999\n",
    "eps_start = 1\n",
    "eps_end = 0.01\n",
    "eps_decay = 0.0001\n",
    "target_update = 10\n",
    "memory_size = 5000\n",
    "lr = 0.001\n",
    "num_episodes = 1500"
   ]
  },
  {
   "cell_type": "code",
   "execution_count": 8,
   "metadata": {},
   "outputs": [
    {
     "data": {
      "text/plain": [
       "DQN(\n",
       "  (fc1): Linear(in_features=4, out_features=64, bias=True)\n",
       "  (fc2): Linear(in_features=64, out_features=64, bias=True)\n",
       "  (out): Linear(in_features=64, out_features=2, bias=True)\n",
       ")"
      ]
     },
     "execution_count": 8,
     "metadata": {},
     "output_type": "execute_result"
    }
   ],
   "source": [
    "env = gym.make('CartPole-v0')\n",
    "strategy = EpsilonGreedyStrategy(eps_start, eps_end, eps_decay) \n",
    "agent = Agent(strategy, env.action_space.n)\n",
    "memory = ReplayMemory(memory_size)\n",
    "\n",
    "obs_space_n, = env.observation_space.shape\n",
    "policy_net = DQN(obs_space_n)\n",
    "optimizer = optim.Adam(params=policy_net.parameters(), lr=lr)\n",
    "target_net = DQN(obs_space_n)\n",
    "\n",
    "target_net.load_state_dict(policy_net.state_dict())\n",
    "target_net.eval()"
   ]
  },
  {
   "cell_type": "markdown",
   "metadata": {},
   "source": [
    "# Training"
   ]
  },
  {
   "cell_type": "code",
   "execution_count": 9,
   "metadata": {},
   "outputs": [
    {
     "data": {
      "image/png": "[encoded data removed]",
      "text/plain": [
       "<Figure size 432x288 with 1 Axes>"
      ]
     },
     "metadata": {
      "needs_background": "light"
     },
     "output_type": "display_data"
    },
    {
     "name": "stdout",
     "output_type": "stream",
     "text": [
      "Episode: 1500 \n",
      "100 Episode Moving Avg: 197.9199981689453\n"
     ]
    }
   ],
   "source": [
    "episode_durations = []  # acts as total return of an episode; allows us to plot our progress\n",
    "\n",
    "for episode in range (num_episodes):\n",
    "    state = torch.Tensor(env.reset()).unsqueeze(0) \n",
    "    \n",
    "    for timestep in count():\n",
    "        action = agent.select_action(state, policy_net).unsqueeze(0)\n",
    "        next_state, reward, done, info = env.step(int(action.item()))\n",
    "        next_state = torch.Tensor(next_state).unsqueeze(0)\n",
    "        \n",
    "        if done:\n",
    "            reward = torch.Tensor([[0]])\n",
    "        else:\n",
    "            reward = torch.as_tensor(reward, dtype=torch.float32).unsqueeze(0).unsqueeze(0)  \n",
    "        memory.push(Experience(state, action, next_state, reward))\n",
    "        state = next_state\n",
    "\n",
    "        if memory.can_provide_sample(batch_size):\n",
    "                experiences = memory.sample(batch_size)\n",
    "                states, actions, rewards, next_states = extract_tensors(experiences)\n",
    "\n",
    "                # Q values\n",
    "                current_q_values = policy_net(states).gather(dim=1, index=actions.to(torch.int64))\n",
    "                next_q_values = target_net(next_states).max(dim=1)[0].detach().unsqueeze(1) # max returns both max and index\n",
    "                target_q_values = (next_q_values * gamma) + rewards\n",
    "                \n",
    "                # Updating Policy Network\n",
    "                loss = F.mse_loss(current_q_values, target_q_values)\n",
    "                optimizer.zero_grad()\n",
    "                loss.backward()\n",
    "                optimizer.step()    \n",
    "                \n",
    "        if done:\n",
    "            episode_durations.append(timestep+1) # +1 because timestep starts at 0 \n",
    "            if (episode+1) % 100 == 0:\n",
    "                plot(100, episode_durations, \"Training\")\n",
    "            break      \n",
    "    \n",
    "    # Updating Target Network\n",
    "    if episode % target_update == 0:\n",
    "        target_net.load_state_dict(policy_net.state_dict())\n",
    "        \n",
    "env.close()"
   ]
  },
  {
   "cell_type": "markdown",
   "metadata": {},
   "source": [
    "# Saving "
   ]
  },
  {
   "cell_type": "code",
   "execution_count": 10,
   "metadata": {},
   "outputs": [],
   "source": [
    "torch.save(policy_net.state_dict(), \"CartPoleNN.pth\")"
   ]
  },
  {
   "cell_type": "markdown",
   "metadata": {},
   "source": [
    "# Testing Model"
   ]
  },
  {
   "cell_type": "code",
   "execution_count": 11,
   "metadata": {},
   "outputs": [
    {
     "data": {
      "image/png": "[encoded data removed]",
      "text/plain": [
       "<Figure size 432x288 with 1 Axes>"
      ]
     },
     "metadata": {
      "needs_background": "light"
     },
     "output_type": "display_data"
    },
    {
     "name": "stdout",
     "output_type": "stream",
     "text": [
      "Episode: 10 \n",
      "10 Episode Moving Avg: 200.0\n"
     ]
    }
   ],
   "source": [
    "test_env = gym.make('CartPole-v0')\n",
    "test_obs_space_n, = test_env.observation_space.shape \n",
    "\n",
    "test_policy = DQN(test_obs_space_n)\n",
    "test_policy.load_state_dict(torch.load(\"CartPoleNN.pth\")) \n",
    "test_policy.eval()\n",
    "\n",
    "test_episodes = 10\n",
    "test_durations = []\n",
    "\n",
    "for episode in range(test_episodes):\n",
    "    state = torch.Tensor(test_env.reset()).unsqueeze(0) \n",
    "    \n",
    "    for timestep in count():\n",
    "        with torch.no_grad():\n",
    "                action = test_policy(state).argmax().unsqueeze(0).to(torch.float32)     \n",
    "        next_state, reward, done, info = test_env.step(int(action.item()))\n",
    "        next_state = torch.Tensor(next_state).unsqueeze(0)\n",
    "        state = next_state\n",
    "        test_env.render() \n",
    "        \n",
    "        if done:\n",
    "            test_durations.append(timestep+1) \n",
    "            plot(test_episodes, test_durations, \"Testing\")\n",
    "            break    \n",
    "            \n",
    "test_env.close()"
   ]
  },
  {
   "cell_type": "code",
   "execution_count": null,
   "metadata": {},
   "outputs": [],
   "source": []
  }
 ],
 "metadata": {
  "kernelspec": {
   "display_name": "Python 3",
   "language": "python",
   "name": "python3"
  },
  "language_info": {
   "codemirror_mode": {
    "name": "ipython",
    "version": 3
   },
   "file_extension": ".py",
   "mimetype": "text/x-python",
   "name": "python",
   "nbconvert_exporter": "python",
   "pygments_lexer": "ipython3",
   "version": "3.7.6"
  }
 },
 "nbformat": 4,
 "nbformat_minor": 4
}
